{
 "cells": [
  {
   "cell_type": "markdown",
   "id": "bb95eeda-32c8-429c-aff7-54ce52c94197",
   "metadata": {},
   "source": [
    "# LISTA 1 - Análise de Estoque de Produtos\n",
    "###### Luiz Eduardo Paiva Ribeiro\n",
    "###### Lucas Levy de Oliveira Barros"
   ]
  },
  {
   "cell_type": "markdown",
   "id": "4213c23a-920a-4053-b41b-cb0fbab854c5",
   "metadata": {},
   "source": [
    "1. Carregar o CSV: "
   ]
  },
  {
   "cell_type": "code",
   "execution_count": 2,
   "id": "016bfd26-5ed5-430a-ae2d-e25be03cccdc",
   "metadata": {},
   "outputs": [
    {
     "data": {
      "text/html": [
       "<div>\n",
       "<style scoped>\n",
       "    .dataframe tbody tr th:only-of-type {\n",
       "        vertical-align: middle;\n",
       "    }\n",
       "\n",
       "    .dataframe tbody tr th {\n",
       "        vertical-align: top;\n",
       "    }\n",
       "\n",
       "    .dataframe thead th {\n",
       "        text-align: right;\n",
       "    }\n",
       "</style>\n",
       "<table border=\"1\" class=\"dataframe\">\n",
       "  <thead>\n",
       "    <tr style=\"text-align: right;\">\n",
       "      <th></th>\n",
       "      <th>Data_Atualizacao</th>\n",
       "      <th>Produto</th>\n",
       "      <th>Categoria</th>\n",
       "      <th>Quantidade</th>\n",
       "      <th>Preco_Unitario</th>\n",
       "    </tr>\n",
       "  </thead>\n",
       "  <tbody>\n",
       "    <tr>\n",
       "      <th>0</th>\n",
       "      <td>29/03/2023</td>\n",
       "      <td>Monitor</td>\n",
       "      <td>Eletrônicos</td>\n",
       "      <td>97</td>\n",
       "      <td>398.63</td>\n",
       "    </tr>\n",
       "    <tr>\n",
       "      <th>1</th>\n",
       "      <td>30/08/2023</td>\n",
       "      <td>Desodorante</td>\n",
       "      <td>Higiene</td>\n",
       "      <td>45</td>\n",
       "      <td>272.30</td>\n",
       "    </tr>\n",
       "    <tr>\n",
       "      <th>2</th>\n",
       "      <td>07/12/2023</td>\n",
       "      <td>Arroz</td>\n",
       "      <td>Alimentos</td>\n",
       "      <td>34</td>\n",
       "      <td>487.97</td>\n",
       "    </tr>\n",
       "    <tr>\n",
       "      <th>3</th>\n",
       "      <td>15/07/2023</td>\n",
       "      <td>Sabão em Pó</td>\n",
       "      <td>Limpeza</td>\n",
       "      <td>181</td>\n",
       "      <td>419.03</td>\n",
       "    </tr>\n",
       "    <tr>\n",
       "      <th>4</th>\n",
       "      <td>14/08/2023</td>\n",
       "      <td>Notebook</td>\n",
       "      <td>Eletrônicos</td>\n",
       "      <td>87</td>\n",
       "      <td>458.93</td>\n",
       "    </tr>\n",
       "  </tbody>\n",
       "</table>\n",
       "</div>"
      ],
      "text/plain": [
       "  Data_Atualizacao      Produto    Categoria  Quantidade  Preco_Unitario\n",
       "0       29/03/2023      Monitor  Eletrônicos          97          398.63\n",
       "1       30/08/2023  Desodorante      Higiene          45          272.30\n",
       "2       07/12/2023        Arroz    Alimentos          34          487.97\n",
       "3       15/07/2023  Sabão em Pó      Limpeza         181          419.03\n",
       "4       14/08/2023     Notebook  Eletrônicos          87          458.93"
      ]
     },
     "execution_count": 2,
     "metadata": {},
     "output_type": "execute_result"
    }
   ],
   "source": [
    "import pandas as pd\n",
    "\n",
    "df = pd.read_csv('estoque.csv', sep=',')\n",
    "df.head() \n"
   ]
  },
  {
   "cell_type": "markdown",
   "id": "d6dd2840-664c-47ab-827e-7f45da7352dd",
   "metadata": {},
   "source": [
    "2. Calcular o valor total por produto"
   ]
  },
  {
   "cell_type": "code",
   "execution_count": 3,
   "id": "64e47a68-d3e3-4356-90dc-6bd9c249a0b1",
   "metadata": {},
   "outputs": [
    {
     "data": {
      "text/html": [
       "<div>\n",
       "<style scoped>\n",
       "    .dataframe tbody tr th:only-of-type {\n",
       "        vertical-align: middle;\n",
       "    }\n",
       "\n",
       "    .dataframe tbody tr th {\n",
       "        vertical-align: top;\n",
       "    }\n",
       "\n",
       "    .dataframe thead th {\n",
       "        text-align: right;\n",
       "    }\n",
       "</style>\n",
       "<table border=\"1\" class=\"dataframe\">\n",
       "  <thead>\n",
       "    <tr style=\"text-align: right;\">\n",
       "      <th></th>\n",
       "      <th>Produto</th>\n",
       "      <th>Valor_Estoque</th>\n",
       "    </tr>\n",
       "  </thead>\n",
       "  <tbody>\n",
       "    <tr>\n",
       "      <th>0</th>\n",
       "      <td>Arroz</td>\n",
       "      <td>719645.46</td>\n",
       "    </tr>\n",
       "    <tr>\n",
       "      <th>1</th>\n",
       "      <td>Açúcar</td>\n",
       "      <td>479149.04</td>\n",
       "    </tr>\n",
       "    <tr>\n",
       "      <th>2</th>\n",
       "      <td>Café</td>\n",
       "      <td>476571.30</td>\n",
       "    </tr>\n",
       "    <tr>\n",
       "      <th>3</th>\n",
       "      <td>Desinfetante</td>\n",
       "      <td>748190.68</td>\n",
       "    </tr>\n",
       "    <tr>\n",
       "      <th>4</th>\n",
       "      <td>Desodorante</td>\n",
       "      <td>874621.57</td>\n",
       "    </tr>\n",
       "  </tbody>\n",
       "</table>\n",
       "</div>"
      ],
      "text/plain": [
       "        Produto  Valor_Estoque\n",
       "0         Arroz      719645.46\n",
       "1        Açúcar      479149.04\n",
       "2          Café      476571.30\n",
       "3  Desinfetante      748190.68\n",
       "4   Desodorante      874621.57"
      ]
     },
     "execution_count": 3,
     "metadata": {},
     "output_type": "execute_result"
    }
   ],
   "source": [
    "df['Valor_Estoque'] = df['Quantidade'] * df['Preco_Unitario']\n",
    "\n",
    "valor_total_por_produto = df.groupby('Produto')['Valor_Estoque'].sum().reset_index()\n",
    "\n",
    "valor_total_por_produto.head()\n"
   ]
  },
  {
   "cell_type": "markdown",
   "id": "130b3f8c-7155-4c76-90c1-489f46ce8716",
   "metadata": {},
   "source": [
    "3. Filtrar produtos com baixo estoque"
   ]
  },
  {
   "cell_type": "code",
   "execution_count": 4,
   "id": "4bf62d19-69dc-4872-abbd-cb35845e5355",
   "metadata": {},
   "outputs": [
    {
     "data": {
      "text/html": [
       "<div>\n",
       "<style scoped>\n",
       "    .dataframe tbody tr th:only-of-type {\n",
       "        vertical-align: middle;\n",
       "    }\n",
       "\n",
       "    .dataframe tbody tr th {\n",
       "        vertical-align: top;\n",
       "    }\n",
       "\n",
       "    .dataframe thead th {\n",
       "        text-align: right;\n",
       "    }\n",
       "</style>\n",
       "<table border=\"1\" class=\"dataframe\">\n",
       "  <thead>\n",
       "    <tr style=\"text-align: right;\">\n",
       "      <th></th>\n",
       "      <th>Data_Atualizacao</th>\n",
       "      <th>Produto</th>\n",
       "      <th>Categoria</th>\n",
       "      <th>Quantidade</th>\n",
       "      <th>Preco_Unitario</th>\n",
       "      <th>Valor_Estoque</th>\n",
       "    </tr>\n",
       "  </thead>\n",
       "  <tbody>\n",
       "    <tr>\n",
       "      <th>30</th>\n",
       "      <td>08/12/2023</td>\n",
       "      <td>Notebook</td>\n",
       "      <td>Eletrônicos</td>\n",
       "      <td>6</td>\n",
       "      <td>54.61</td>\n",
       "      <td>327.66</td>\n",
       "    </tr>\n",
       "    <tr>\n",
       "      <th>35</th>\n",
       "      <td>02/02/2023</td>\n",
       "      <td>Mouse</td>\n",
       "      <td>Eletrônicos</td>\n",
       "      <td>4</td>\n",
       "      <td>393.09</td>\n",
       "      <td>1572.36</td>\n",
       "    </tr>\n",
       "    <tr>\n",
       "      <th>47</th>\n",
       "      <td>21/03/2023</td>\n",
       "      <td>Papel Higiênico</td>\n",
       "      <td>Higiene</td>\n",
       "      <td>3</td>\n",
       "      <td>317.44</td>\n",
       "      <td>952.32</td>\n",
       "    </tr>\n",
       "    <tr>\n",
       "      <th>79</th>\n",
       "      <td>27/03/2023</td>\n",
       "      <td>Água Sanitária</td>\n",
       "      <td>Limpeza</td>\n",
       "      <td>9</td>\n",
       "      <td>305.53</td>\n",
       "      <td>2749.77</td>\n",
       "    </tr>\n",
       "    <tr>\n",
       "      <th>102</th>\n",
       "      <td>26/11/2023</td>\n",
       "      <td>Arroz</td>\n",
       "      <td>Alimentos</td>\n",
       "      <td>2</td>\n",
       "      <td>423.23</td>\n",
       "      <td>846.46</td>\n",
       "    </tr>\n",
       "  </tbody>\n",
       "</table>\n",
       "</div>"
      ],
      "text/plain": [
       "    Data_Atualizacao          Produto    Categoria  Quantidade  \\\n",
       "30        08/12/2023         Notebook  Eletrônicos           6   \n",
       "35        02/02/2023            Mouse  Eletrônicos           4   \n",
       "47        21/03/2023  Papel Higiênico      Higiene           3   \n",
       "79        27/03/2023   Água Sanitária      Limpeza           9   \n",
       "102       26/11/2023            Arroz    Alimentos           2   \n",
       "\n",
       "     Preco_Unitario  Valor_Estoque  \n",
       "30            54.61         327.66  \n",
       "35           393.09        1572.36  \n",
       "47           317.44         952.32  \n",
       "79           305.53        2749.77  \n",
       "102          423.23         846.46  "
      ]
     },
     "execution_count": 4,
     "metadata": {},
     "output_type": "execute_result"
    }
   ],
   "source": [
    "produtos_baixo = df[df['Quantidade'] < 10]\n",
    "produtos_baixo.head()\n"
   ]
  },
  {
   "cell_type": "markdown",
   "id": "fe341ac9-c16d-4e27-9a2d-d4be87490494",
   "metadata": {},
   "source": [
    "4. Salvar os Resultados"
   ]
  },
  {
   "cell_type": "markdown",
   "id": "a7936132-86c4-44e4-8e3e-2a3eeeaa50cf",
   "metadata": {
    "scrolled": true
   },
   "source": [
    "a) Exportar produtos com baixo estoque para um novo CSV:"
   ]
  },
  {
   "cell_type": "code",
   "execution_count": 5,
   "id": "bc792cdf-fe5b-488b-8708-79896a98c458",
   "metadata": {},
   "outputs": [],
   "source": [
    "\n",
    "produtos_baixo.to_csv('estoque_baixo.csv', index=False)\n"
   ]
  },
  {
   "cell_type": "markdown",
   "id": "77891a0a-cfb6-4325-a2d9-269213d40cad",
   "metadata": {},
   "source": [
    "b) Salvar o valor total por produto em uma planilha Excel com abas por categoria:"
   ]
  },
  {
   "cell_type": "code",
   "execution_count": 6,
   "id": "26b0bf2c-b953-4613-97a3-2e0181119135",
   "metadata": {},
   "outputs": [],
   "source": [
    "with pd.ExcelWriter('valor_total_estoque.xlsx') as writer:\n",
    "    categorias = df['Categoria'].unique()\n",
    "    for cat in categorias:\n",
    "        df_cat = df[df['Categoria'] == cat]\n",
    "        \n",
    "        df_cat_agrupado = df_cat.groupby('Produto', as_index=False)['Valor_Estoque'].sum()\n",
    "        \n",
    "        df_cat_agrupado.to_excel(writer, sheet_name=cat, index=False)\n"
   ]
  },
  {
   "cell_type": "markdown",
   "id": "d9b98b54-1942-48a8-9142-f0a2e488ec45",
   "metadata": {},
   "source": [
    "5. Identificar o Produto Mais Valioso por Categoria"
   ]
  },
  {
   "cell_type": "code",
   "execution_count": 7,
   "id": "69722b8a-9d2a-47a8-a90b-00dae705d805",
   "metadata": {},
   "outputs": [
    {
     "name": "stderr",
     "output_type": "stream",
     "text": [
      "C:\\Users\\Luiz Eduardo\\AppData\\Local\\Temp\\ipykernel_15632\\2373883746.py:4: DeprecationWarning: DataFrameGroupBy.apply operated on the grouping columns. This behavior is deprecated, and in a future version of pandas the grouping columns will be excluded from the operation. Either pass `include_groups=False` to exclude the groupings or explicitly select the grouping columns after groupby to silence this warning.\n",
      "  produto_valioso_por_categoria = df.groupby('Categoria').apply(produto_mais_valioso).reset_index(drop=True)\n"
     ]
    },
    {
     "data": {
      "text/html": [
       "<div>\n",
       "<style scoped>\n",
       "    .dataframe tbody tr th:only-of-type {\n",
       "        vertical-align: middle;\n",
       "    }\n",
       "\n",
       "    .dataframe tbody tr th {\n",
       "        vertical-align: top;\n",
       "    }\n",
       "\n",
       "    .dataframe thead th {\n",
       "        text-align: right;\n",
       "    }\n",
       "</style>\n",
       "<table border=\"1\" class=\"dataframe\">\n",
       "  <thead>\n",
       "    <tr style=\"text-align: right;\">\n",
       "      <th></th>\n",
       "      <th>Categoria</th>\n",
       "      <th>Produto</th>\n",
       "      <th>Valor_Estoque</th>\n",
       "    </tr>\n",
       "  </thead>\n",
       "  <tbody>\n",
       "    <tr>\n",
       "      <th>0</th>\n",
       "      <td>Alimentos</td>\n",
       "      <td>Açúcar</td>\n",
       "      <td>81886.09</td>\n",
       "    </tr>\n",
       "    <tr>\n",
       "      <th>1</th>\n",
       "      <td>Eletrônicos</td>\n",
       "      <td>Notebook</td>\n",
       "      <td>90268.20</td>\n",
       "    </tr>\n",
       "    <tr>\n",
       "      <th>2</th>\n",
       "      <td>Higiene</td>\n",
       "      <td>Sabonete</td>\n",
       "      <td>92627.24</td>\n",
       "    </tr>\n",
       "    <tr>\n",
       "      <th>3</th>\n",
       "      <td>Limpeza</td>\n",
       "      <td>Detergente</td>\n",
       "      <td>83029.62</td>\n",
       "    </tr>\n",
       "  </tbody>\n",
       "</table>\n",
       "</div>"
      ],
      "text/plain": [
       "     Categoria     Produto  Valor_Estoque\n",
       "0    Alimentos      Açúcar       81886.09\n",
       "1  Eletrônicos    Notebook       90268.20\n",
       "2      Higiene    Sabonete       92627.24\n",
       "3      Limpeza  Detergente       83029.62"
      ]
     },
     "execution_count": 7,
     "metadata": {},
     "output_type": "execute_result"
    }
   ],
   "source": [
    "def produto_mais_valioso(grupo):\n",
    "    return grupo.loc[grupo['Valor_Estoque'].idxmax()]\n",
    "\n",
    "produto_valioso_por_categoria = df.groupby('Categoria').apply(produto_mais_valioso).reset_index(drop=True)\n",
    "\n",
    "resultado_produto_valioso = produto_valioso_por_categoria[['Categoria', 'Produto', 'Valor_Estoque']]\n",
    "resultado_produto_valioso\n"
   ]
  },
  {
   "cell_type": "markdown",
   "id": "f0ac70c1-04bb-4754-b884-09a599dd05c9",
   "metadata": {},
   "source": [
    "6. Calcular o Valor Total do Estoque por Categoria"
   ]
  },
  {
   "cell_type": "code",
   "execution_count": 8,
   "id": "6d234f13-e4bf-475a-b060-39393cd6f262",
   "metadata": {},
   "outputs": [
    {
     "data": {
      "text/html": [
       "<div>\n",
       "<style scoped>\n",
       "    .dataframe tbody tr th:only-of-type {\n",
       "        vertical-align: middle;\n",
       "    }\n",
       "\n",
       "    .dataframe tbody tr th {\n",
       "        vertical-align: top;\n",
       "    }\n",
       "\n",
       "    .dataframe thead th {\n",
       "        text-align: right;\n",
       "    }\n",
       "</style>\n",
       "<table border=\"1\" class=\"dataframe\">\n",
       "  <thead>\n",
       "    <tr style=\"text-align: right;\">\n",
       "      <th></th>\n",
       "      <th>Categoria</th>\n",
       "      <th>Valor_Estoque</th>\n",
       "    </tr>\n",
       "  </thead>\n",
       "  <tbody>\n",
       "    <tr>\n",
       "      <th>1</th>\n",
       "      <td>Eletrônicos</td>\n",
       "      <td>4477677.37</td>\n",
       "    </tr>\n",
       "    <tr>\n",
       "      <th>2</th>\n",
       "      <td>Higiene</td>\n",
       "      <td>4238200.02</td>\n",
       "    </tr>\n",
       "    <tr>\n",
       "      <th>3</th>\n",
       "      <td>Limpeza</td>\n",
       "      <td>3804669.34</td>\n",
       "    </tr>\n",
       "    <tr>\n",
       "      <th>0</th>\n",
       "      <td>Alimentos</td>\n",
       "      <td>3383136.59</td>\n",
       "    </tr>\n",
       "  </tbody>\n",
       "</table>\n",
       "</div>"
      ],
      "text/plain": [
       "     Categoria  Valor_Estoque\n",
       "1  Eletrônicos     4477677.37\n",
       "2      Higiene     4238200.02\n",
       "3      Limpeza     3804669.34\n",
       "0    Alimentos     3383136.59"
      ]
     },
     "execution_count": 8,
     "metadata": {},
     "output_type": "execute_result"
    }
   ],
   "source": [
    "valor_total_por_categoria = df.groupby('Categoria')['Valor_Estoque'].sum().reset_index()\n",
    "\n",
    "valor_total_por_categoria = valor_total_por_categoria.sort_values(by='Valor_Estoque', ascending=False)\n",
    "valor_total_por_categoria\n"
   ]
  },
  {
   "cell_type": "code",
   "execution_count": 9,
   "id": "596d614f-a6c3-405b-aae6-a91ff96d2309",
   "metadata": {},
   "outputs": [
    {
     "data": {
      "image/png": "[encoded data removed]",
      "text/plain": [
       "<Figure size 800x500 with 1 Axes>"
      ]
     },
     "metadata": {},
     "output_type": "display_data"
    }
   ],
   "source": [
    "import matplotlib.pyplot as plt\n",
    "\n",
    "plt.figure(figsize=(8, 5))\n",
    "plt.bar(valor_total_por_categoria['Categoria'], valor_total_por_categoria['Valor_Estoque'], color='skyblue')\n",
    "plt.xlabel('Categoria')\n",
    "plt.ylabel('Valor Total do Estoque')\n",
    "plt.title('Valor Total do Estoque por Categoria')\n",
    "plt.xticks(rotation=45)\n",
    "plt.tight_layout()\n",
    "plt.show()\n"
   ]
  },
  {
   "cell_type": "markdown",
   "id": "487b1acd-aaf1-4813-aaa8-607b68540da7",
   "metadata": {},
   "source": [
    "7. Classificar Produtos em Faixas de Estoque"
   ]
  },
  {
   "cell_type": "code",
   "execution_count": 10,
   "id": "127553af-5ca5-428d-a5d3-1d0af2f2dc95",
   "metadata": {},
   "outputs": [
    {
     "data": {
      "text/html": [
       "<div>\n",
       "<style scoped>\n",
       "    .dataframe tbody tr th:only-of-type {\n",
       "        vertical-align: middle;\n",
       "    }\n",
       "\n",
       "    .dataframe tbody tr th {\n",
       "        vertical-align: top;\n",
       "    }\n",
       "\n",
       "    .dataframe thead th {\n",
       "        text-align: right;\n",
       "    }\n",
       "</style>\n",
       "<table border=\"1\" class=\"dataframe\">\n",
       "  <thead>\n",
       "    <tr style=\"text-align: right;\">\n",
       "      <th></th>\n",
       "      <th>Nivel_Estoque</th>\n",
       "      <th>Contagem</th>\n",
       "    </tr>\n",
       "  </thead>\n",
       "  <tbody>\n",
       "    <tr>\n",
       "      <th>0</th>\n",
       "      <td>Alto</td>\n",
       "      <td>465</td>\n",
       "    </tr>\n",
       "    <tr>\n",
       "      <th>1</th>\n",
       "      <td>Médio</td>\n",
       "      <td>117</td>\n",
       "    </tr>\n",
       "    <tr>\n",
       "      <th>2</th>\n",
       "      <td>Baixo</td>\n",
       "      <td>18</td>\n",
       "    </tr>\n",
       "  </tbody>\n",
       "</table>\n",
       "</div>"
      ],
      "text/plain": [
       "  Nivel_Estoque  Contagem\n",
       "0          Alto       465\n",
       "1         Médio       117\n",
       "2         Baixo        18"
      ]
     },
     "execution_count": 10,
     "metadata": {},
     "output_type": "execute_result"
    }
   ],
   "source": [
    "condicoes = [\n",
    "    (df['Quantidade'] < 10),\n",
    "    (df['Quantidade'] >= 10) & (df['Quantidade'] <= 50),\n",
    "    (df['Quantidade'] > 50)\n",
    "]\n",
    "valores = ['Baixo', 'Médio', 'Alto']\n",
    "\n",
    "df['Nivel_Estoque'] = pd.cut(df['Quantidade'],\n",
    "                             bins=[-float('inf'), 10, 50, float('inf')],\n",
    "                             labels=['Baixo', 'Médio', 'Alto'],\n",
    "                             right=False)\n",
    "\n",
    "\n",
    "contagem_niveis = df['Nivel_Estoque'].value_counts().reset_index()\n",
    "contagem_niveis.columns = ['Nivel_Estoque', 'Contagem']\n",
    "contagem_niveis\n"
   ]
  },
  {
   "cell_type": "markdown",
   "id": "721d0bd9-2e0c-4647-9fc4-bce5f0abc9dd",
   "metadata": {},
   "source": [
    "Bônus: 8. Análise Temporal"
   ]
  },
  {
   "cell_type": "code",
   "execution_count": 11,
   "id": "c01b9b2b-a629-4dee-a99b-d1dbaddfc464",
   "metadata": {},
   "outputs": [
    {
     "data": {
      "text/html": [
       "<div>\n",
       "<style scoped>\n",
       "    .dataframe tbody tr th:only-of-type {\n",
       "        vertical-align: middle;\n",
       "    }\n",
       "\n",
       "    .dataframe tbody tr th {\n",
       "        vertical-align: top;\n",
       "    }\n",
       "\n",
       "    .dataframe thead th {\n",
       "        text-align: right;\n",
       "    }\n",
       "</style>\n",
       "<table border=\"1\" class=\"dataframe\">\n",
       "  <thead>\n",
       "    <tr style=\"text-align: right;\">\n",
       "      <th></th>\n",
       "      <th>Ano_Mes</th>\n",
       "      <th>num_atualizacoes</th>\n",
       "      <th>quantidade_media</th>\n",
       "    </tr>\n",
       "  </thead>\n",
       "  <tbody>\n",
       "    <tr>\n",
       "      <th>0</th>\n",
       "      <td>2023-01-01</td>\n",
       "      <td>44</td>\n",
       "      <td>94.363636</td>\n",
       "    </tr>\n",
       "    <tr>\n",
       "      <th>1</th>\n",
       "      <td>2023-02-01</td>\n",
       "      <td>27</td>\n",
       "      <td>98.111111</td>\n",
       "    </tr>\n",
       "    <tr>\n",
       "      <th>2</th>\n",
       "      <td>2023-03-01</td>\n",
       "      <td>49</td>\n",
       "      <td>94.224490</td>\n",
       "    </tr>\n",
       "    <tr>\n",
       "      <th>3</th>\n",
       "      <td>2023-04-01</td>\n",
       "      <td>50</td>\n",
       "      <td>106.140000</td>\n",
       "    </tr>\n",
       "    <tr>\n",
       "      <th>4</th>\n",
       "      <td>2023-05-01</td>\n",
       "      <td>50</td>\n",
       "      <td>92.580000</td>\n",
       "    </tr>\n",
       "    <tr>\n",
       "      <th>5</th>\n",
       "      <td>2023-06-01</td>\n",
       "      <td>59</td>\n",
       "      <td>103.881356</td>\n",
       "    </tr>\n",
       "    <tr>\n",
       "      <th>6</th>\n",
       "      <td>2023-07-01</td>\n",
       "      <td>54</td>\n",
       "      <td>104.333333</td>\n",
       "    </tr>\n",
       "    <tr>\n",
       "      <th>7</th>\n",
       "      <td>2023-08-01</td>\n",
       "      <td>53</td>\n",
       "      <td>108.622642</td>\n",
       "    </tr>\n",
       "    <tr>\n",
       "      <th>8</th>\n",
       "      <td>2023-09-01</td>\n",
       "      <td>53</td>\n",
       "      <td>109.245283</td>\n",
       "    </tr>\n",
       "    <tr>\n",
       "      <th>9</th>\n",
       "      <td>2023-10-01</td>\n",
       "      <td>56</td>\n",
       "      <td>109.107143</td>\n",
       "    </tr>\n",
       "    <tr>\n",
       "      <th>10</th>\n",
       "      <td>2023-11-01</td>\n",
       "      <td>53</td>\n",
       "      <td>100.773585</td>\n",
       "    </tr>\n",
       "    <tr>\n",
       "      <th>11</th>\n",
       "      <td>2023-12-01</td>\n",
       "      <td>52</td>\n",
       "      <td>115.442308</td>\n",
       "    </tr>\n",
       "  </tbody>\n",
       "</table>\n",
       "</div>"
      ],
      "text/plain": [
       "      Ano_Mes  num_atualizacoes  quantidade_media\n",
       "0  2023-01-01                44         94.363636\n",
       "1  2023-02-01                27         98.111111\n",
       "2  2023-03-01                49         94.224490\n",
       "3  2023-04-01                50        106.140000\n",
       "4  2023-05-01                50         92.580000\n",
       "5  2023-06-01                59        103.881356\n",
       "6  2023-07-01                54        104.333333\n",
       "7  2023-08-01                53        108.622642\n",
       "8  2023-09-01                53        109.245283\n",
       "9  2023-10-01                56        109.107143\n",
       "10 2023-11-01                53        100.773585\n",
       "11 2023-12-01                52        115.442308"
      ]
     },
     "execution_count": 11,
     "metadata": {},
     "output_type": "execute_result"
    }
   ],
   "source": [
    "df['Data_Atualizacao'] = pd.to_datetime(df['Data_Atualizacao'], format='%d/%m/%Y')\n",
    "\n",
    "df['Ano_Mes'] = df['Data_Atualizacao'].dt.to_period('M')\n",
    "\n",
    "analise_temporal = df.groupby('Ano_Mes').agg(\n",
    "    num_atualizacoes=('Data_Atualizacao', 'count'),\n",
    "    quantidade_media=('Quantidade', 'mean')\n",
    ").reset_index()\n",
    "\n",
    "analise_temporal['Ano_Mes'] = analise_temporal['Ano_Mes'].dt.to_timestamp()\n",
    "\n",
    "analise_temporal\n"
   ]
  },
  {
   "cell_type": "code",
   "execution_count": 12,
   "id": "abb68516-9734-46fd-9d34-7a6f374cab68",
   "metadata": {},
   "outputs": [
    {
     "data": {
      "image/png": "[encoded data removed]",
      "text/plain": [
       "<Figure size 1000x600 with 1 Axes>"
      ]
     },
     "metadata": {},
     "output_type": "display_data"
    }
   ],
   "source": [
    "plt.figure(figsize=(10, 6))\n",
    "plt.plot(analise_temporal['Ano_Mes'], analise_temporal['num_atualizacoes'], marker='o', label='Número de Atualizações')\n",
    "plt.plot(analise_temporal['Ano_Mes'], analise_temporal['quantidade_media'], marker='s', label='Quantidade Média')\n",
    "plt.xlabel('Data')\n",
    "plt.ylabel('Valores')\n",
    "plt.title('Análise Temporal das Atualizações de Estoque')\n",
    "plt.legend()\n",
    "plt.xticks(rotation=45)\n",
    "plt.tight_layout()\n",
    "plt.show()"
   ]
  },
  {
   "cell_type": "code",
   "execution_count": null,
   "id": "62b38070-ef1c-4894-bb7d-de0a6373ec86",
   "metadata": {},
   "outputs": [],
   "source": []
  }
 ],
 "metadata": {
  "kernelspec": {
   "display_name": "base",
   "language": "python",
   "name": "python3"
  },
  "language_info": {
   "codemirror_mode": {
    "name": "ipython",
    "version": 3
   },
   "file_extension": ".py",
   "mimetype": "text/x-python",
   "name": "python",
   "nbconvert_exporter": "python",
   "pygments_lexer": "ipython3",
   "version": "3.12.4"
  }
 },
 "nbformat": 4,
 "nbformat_minor": 5
}
